{
 "cells": [
  {
   "cell_type": "code",
   "execution_count": 1,
   "id": "fb749eb9",
   "metadata": {},
   "outputs": [
    {
     "name": "stdout",
     "output_type": "stream",
     "text": [
      "Enter Your Name:Moh Mirza Yusuf Humaedy\n",
      "Enter Your Class:TI 22 H\n",
      "Enter Your Major:Teknik Informatika\n",
      "Enter Your Age:22 years old\n",
      "Enter Your Hobby:Playing Game\n",
      "Hello my name is Moh Mirza Yusuf Humaedy, I from TI 22 H Teknik Informatika, I 22 years old, my hobbies Playing Game, nice to meet you\n"
     ]
    }
   ],
   "source": [
    "Name = input(\"Enter Your Name:\")\n",
    "Class = input(\"Enter Your Class:\")\n",
    "Major = input(\"Enter Your Major:\")\n",
    "Age = input(\"Enter Your Age:\")\n",
    "Hobby = input(\"Enter Your Hobby:\")\n",
    "\n",
    "print(\"Hello my name is {}, I from {} {}, I {}, my hobbies {}, nice to meet you\". format(Name,Class,Major,Age,Hobby))"
   ]
  },
  {
   "cell_type": "code",
   "execution_count": 6,
   "id": "fdb31394",
   "metadata": {},
   "outputs": [
    {
     "name": "stdout",
     "output_type": "stream",
     "text": [
      "putra nusa\n",
      "NIVERSITAS NSA PTRA SKABMI\n",
      " SUKABUMI PUTRA NUSA UNIVERSITAS\n",
      "UNPS\n",
      "TASSAPUBUMI\n"
     ]
    }
   ],
   "source": [
    "kalimat = \"UNIVERSITAS NUSA PUTRA SUKABUMI\"\n",
    "print(kalimat.lower()[17:22]+kalimat.lower()[11:16])\n",
    "print(kalimat.replace('U',\"\")\n",
    "      [0:10]+kalimat.replace('U',\"\")\n",
    "                             [10:15]+kalimat.replace('U',\"\")\n",
    "                                                     [15:20]+kalimat.replace('U',\"\")[20:28])\n",
    "print(kalimat[-9:]+kalimat[-15:-8]+kalimat[-19:-14]+kalimat[-31:-20])\n",
    "print(kalimat[0]+kalimat[1]+kalimat[17]+kalimat[6])\n",
    "print(kalimat[8:11]+''\n",
    "        +kalimat[14:16]+kalimat[17:19]+''\n",
    "         +kalimat[27:31].upper())\n",
    "      "
   ]
  },
  {
   "cell_type": "code",
   "execution_count": null,
   "id": "7410193d",
   "metadata": {},
   "outputs": [],
   "source": []
  }
 ],
 "metadata": {
  "kernelspec": {
   "display_name": "Python 3 (ipykernel)",
   "language": "python",
   "name": "python3"
  },
  "language_info": {
   "codemirror_mode": {
    "name": "ipython",
    "version": 3
   },
   "file_extension": ".py",
   "mimetype": "text/x-python",
   "name": "python",
   "nbconvert_exporter": "python",
   "pygments_lexer": "ipython3",
   "version": "3.9.12"
  }
 },
 "nbformat": 4,
 "nbformat_minor": 5
}
